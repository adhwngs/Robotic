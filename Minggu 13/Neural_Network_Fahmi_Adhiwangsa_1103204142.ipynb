{
  "nbformat": 4,
  "nbformat_minor": 0,
  "metadata": {
    "colab": {
      "provenance": [],
      "gpuType": "T4"
    },
    "kernelspec": {
      "name": "python3",
      "display_name": "Python 3"
    },
    "language_info": {
      "name": "python"
    },
    "accelerator": "GPU"
  },
  "cells": [
    {
      "cell_type": "markdown",
      "source": [
        "Nama  : Fahmi Adhiwangsa\n",
        "\n",
        "NIM  : 1103204142"
      ],
      "metadata": {
        "id": "8aW7a1tK8epu"
      }
    },
    {
      "cell_type": "code",
      "execution_count": 9,
      "metadata": {
        "id": "zC05P3KsxQB-"
      },
      "outputs": [],
      "source": [
        "import tensorflow as tf\n",
        "import numpy as np\n",
        "from tensorflow import keras"
      ]
    },
    {
      "cell_type": "code",
      "source": [
        "xs = np.array([1.0,  2.0, 3.0, 4.0, 5.0, 6.0], dtype=float)\n",
        "ys = np.array([4.0, 6.0, 8.0, 10.0, 12.0, 14.0], dtype=float)"
      ],
      "metadata": {
        "id": "XnqpYMdExYMD"
      },
      "execution_count": 10,
      "outputs": []
    },
    {
      "cell_type": "code",
      "source": [
        "model = tf.keras.Sequential([keras.layers.Dense(units=1, input_shape=[1])])"
      ],
      "metadata": {
        "id": "Nw1h-99-xZxG"
      },
      "execution_count": 11,
      "outputs": []
    },
    {
      "cell_type": "code",
      "source": [
        "model.compile(optimizer='sgd', loss='mean_squared_error')"
      ],
      "metadata": {
        "id": "IAJ9agnLzWXR"
      },
      "execution_count": 12,
      "outputs": []
    },
    {
      "cell_type": "code",
      "source": [
        "model.fit(xs, ys, epochs=150)"
      ],
      "metadata": {
        "colab": {
          "base_uri": "https://localhost:8080/"
        },
        "id": "CL1vnyNnzC05",
        "outputId": "0bf9cb89-10da-4c1c-e46a-7a788a7d3301"
      },
      "execution_count": 13,
      "outputs": [
        {
          "output_type": "stream",
          "name": "stdout",
          "text": [
            "Epoch 1/150\n",
            "1/1 [==============================] - 0s 274ms/step - loss: 30.2346\n",
            "Epoch 2/150\n",
            "1/1 [==============================] - 0s 9ms/step - loss: 14.2847\n",
            "Epoch 3/150\n",
            "1/1 [==============================] - 0s 9ms/step - loss: 6.9005\n",
            "Epoch 4/150\n",
            "1/1 [==============================] - 0s 9ms/step - loss: 3.4808\n",
            "Epoch 5/150\n",
            "1/1 [==============================] - 0s 8ms/step - loss: 1.8959\n",
            "Epoch 6/150\n",
            "1/1 [==============================] - 0s 10ms/step - loss: 1.1603\n",
            "Epoch 7/150\n",
            "1/1 [==============================] - 0s 9ms/step - loss: 0.8178\n",
            "Epoch 8/150\n",
            "1/1 [==============================] - 0s 8ms/step - loss: 0.6572\n",
            "Epoch 9/150\n",
            "1/1 [==============================] - 0s 9ms/step - loss: 0.5809\n",
            "Epoch 10/150\n",
            "1/1 [==============================] - 0s 8ms/step - loss: 0.5435\n",
            "Epoch 11/150\n",
            "1/1 [==============================] - 0s 8ms/step - loss: 0.5242\n",
            "Epoch 12/150\n",
            "1/1 [==============================] - 0s 8ms/step - loss: 0.5133\n",
            "Epoch 13/150\n",
            "1/1 [==============================] - 0s 7ms/step - loss: 0.5063\n",
            "Epoch 14/150\n",
            "1/1 [==============================] - 0s 9ms/step - loss: 0.5011\n",
            "Epoch 15/150\n",
            "1/1 [==============================] - 0s 9ms/step - loss: 0.4967\n",
            "Epoch 16/150\n",
            "1/1 [==============================] - 0s 9ms/step - loss: 0.4928\n",
            "Epoch 17/150\n",
            "1/1 [==============================] - 0s 7ms/step - loss: 0.4891\n",
            "Epoch 18/150\n",
            "1/1 [==============================] - 0s 8ms/step - loss: 0.4854\n",
            "Epoch 19/150\n",
            "1/1 [==============================] - 0s 8ms/step - loss: 0.4819\n",
            "Epoch 20/150\n",
            "1/1 [==============================] - 0s 8ms/step - loss: 0.4783\n",
            "Epoch 21/150\n",
            "1/1 [==============================] - 0s 9ms/step - loss: 0.4748\n",
            "Epoch 22/150\n",
            "1/1 [==============================] - 0s 12ms/step - loss: 0.4714\n",
            "Epoch 23/150\n",
            "1/1 [==============================] - 0s 9ms/step - loss: 0.4679\n",
            "Epoch 24/150\n",
            "1/1 [==============================] - 0s 10ms/step - loss: 0.4645\n",
            "Epoch 25/150\n",
            "1/1 [==============================] - 0s 9ms/step - loss: 0.4611\n",
            "Epoch 26/150\n",
            "1/1 [==============================] - 0s 7ms/step - loss: 0.4578\n",
            "Epoch 27/150\n",
            "1/1 [==============================] - 0s 7ms/step - loss: 0.4545\n",
            "Epoch 28/150\n",
            "1/1 [==============================] - 0s 10ms/step - loss: 0.4511\n",
            "Epoch 29/150\n",
            "1/1 [==============================] - 0s 8ms/step - loss: 0.4479\n",
            "Epoch 30/150\n",
            "1/1 [==============================] - 0s 8ms/step - loss: 0.4446\n",
            "Epoch 31/150\n",
            "1/1 [==============================] - 0s 8ms/step - loss: 0.4414\n",
            "Epoch 32/150\n",
            "1/1 [==============================] - 0s 11ms/step - loss: 0.4381\n",
            "Epoch 33/150\n",
            "1/1 [==============================] - 0s 8ms/step - loss: 0.4349\n",
            "Epoch 34/150\n",
            "1/1 [==============================] - 0s 7ms/step - loss: 0.4318\n",
            "Epoch 35/150\n",
            "1/1 [==============================] - 0s 8ms/step - loss: 0.4286\n",
            "Epoch 36/150\n",
            "1/1 [==============================] - 0s 7ms/step - loss: 0.4255\n",
            "Epoch 37/150\n",
            "1/1 [==============================] - 0s 9ms/step - loss: 0.4224\n",
            "Epoch 38/150\n",
            "1/1 [==============================] - 0s 9ms/step - loss: 0.4193\n",
            "Epoch 39/150\n",
            "1/1 [==============================] - 0s 11ms/step - loss: 0.4163\n",
            "Epoch 40/150\n",
            "1/1 [==============================] - 0s 8ms/step - loss: 0.4132\n",
            "Epoch 41/150\n",
            "1/1 [==============================] - 0s 8ms/step - loss: 0.4102\n",
            "Epoch 42/150\n",
            "1/1 [==============================] - 0s 8ms/step - loss: 0.4072\n",
            "Epoch 43/150\n",
            "1/1 [==============================] - 0s 8ms/step - loss: 0.4043\n",
            "Epoch 44/150\n",
            "1/1 [==============================] - 0s 7ms/step - loss: 0.4013\n",
            "Epoch 45/150\n",
            "1/1 [==============================] - 0s 7ms/step - loss: 0.3984\n",
            "Epoch 46/150\n",
            "1/1 [==============================] - 0s 8ms/step - loss: 0.3955\n",
            "Epoch 47/150\n",
            "1/1 [==============================] - 0s 8ms/step - loss: 0.3926\n",
            "Epoch 48/150\n",
            "1/1 [==============================] - 0s 8ms/step - loss: 0.3898\n",
            "Epoch 49/150\n",
            "1/1 [==============================] - 0s 8ms/step - loss: 0.3869\n",
            "Epoch 50/150\n",
            "1/1 [==============================] - 0s 7ms/step - loss: 0.3841\n",
            "Epoch 51/150\n",
            "1/1 [==============================] - 0s 8ms/step - loss: 0.3813\n",
            "Epoch 52/150\n",
            "1/1 [==============================] - 0s 8ms/step - loss: 0.3785\n",
            "Epoch 53/150\n",
            "1/1 [==============================] - 0s 8ms/step - loss: 0.3758\n",
            "Epoch 54/150\n",
            "1/1 [==============================] - 0s 8ms/step - loss: 0.3730\n",
            "Epoch 55/150\n",
            "1/1 [==============================] - 0s 7ms/step - loss: 0.3703\n",
            "Epoch 56/150\n",
            "1/1 [==============================] - 0s 13ms/step - loss: 0.3676\n",
            "Epoch 57/150\n",
            "1/1 [==============================] - 0s 8ms/step - loss: 0.3649\n",
            "Epoch 58/150\n",
            "1/1 [==============================] - 0s 7ms/step - loss: 0.3623\n",
            "Epoch 59/150\n",
            "1/1 [==============================] - 0s 8ms/step - loss: 0.3596\n",
            "Epoch 60/150\n",
            "1/1 [==============================] - 0s 8ms/step - loss: 0.3570\n",
            "Epoch 61/150\n",
            "1/1 [==============================] - 0s 11ms/step - loss: 0.3544\n",
            "Epoch 62/150\n",
            "1/1 [==============================] - 0s 9ms/step - loss: 0.3518\n",
            "Epoch 63/150\n",
            "1/1 [==============================] - 0s 9ms/step - loss: 0.3493\n",
            "Epoch 64/150\n",
            "1/1 [==============================] - 0s 8ms/step - loss: 0.3467\n",
            "Epoch 65/150\n",
            "1/1 [==============================] - 0s 12ms/step - loss: 0.3442\n",
            "Epoch 66/150\n",
            "1/1 [==============================] - 0s 9ms/step - loss: 0.3417\n",
            "Epoch 67/150\n",
            "1/1 [==============================] - 0s 7ms/step - loss: 0.3392\n",
            "Epoch 68/150\n",
            "1/1 [==============================] - 0s 7ms/step - loss: 0.3367\n",
            "Epoch 69/150\n",
            "1/1 [==============================] - 0s 8ms/step - loss: 0.3343\n",
            "Epoch 70/150\n",
            "1/1 [==============================] - 0s 9ms/step - loss: 0.3318\n",
            "Epoch 71/150\n",
            "1/1 [==============================] - 0s 11ms/step - loss: 0.3294\n",
            "Epoch 72/150\n",
            "1/1 [==============================] - 0s 9ms/step - loss: 0.3270\n",
            "Epoch 73/150\n",
            "1/1 [==============================] - 0s 6ms/step - loss: 0.3246\n",
            "Epoch 74/150\n",
            "1/1 [==============================] - 0s 9ms/step - loss: 0.3223\n",
            "Epoch 75/150\n",
            "1/1 [==============================] - 0s 8ms/step - loss: 0.3199\n",
            "Epoch 76/150\n",
            "1/1 [==============================] - 0s 8ms/step - loss: 0.3176\n",
            "Epoch 77/150\n",
            "1/1 [==============================] - 0s 8ms/step - loss: 0.3153\n",
            "Epoch 78/150\n",
            "1/1 [==============================] - 0s 8ms/step - loss: 0.3130\n",
            "Epoch 79/150\n",
            "1/1 [==============================] - 0s 8ms/step - loss: 0.3107\n",
            "Epoch 80/150\n",
            "1/1 [==============================] - 0s 9ms/step - loss: 0.3084\n",
            "Epoch 81/150\n",
            "1/1 [==============================] - 0s 10ms/step - loss: 0.3062\n",
            "Epoch 82/150\n",
            "1/1 [==============================] - 0s 10ms/step - loss: 0.3040\n",
            "Epoch 83/150\n",
            "1/1 [==============================] - 0s 9ms/step - loss: 0.3018\n",
            "Epoch 84/150\n",
            "1/1 [==============================] - 0s 9ms/step - loss: 0.2996\n",
            "Epoch 85/150\n",
            "1/1 [==============================] - 0s 8ms/step - loss: 0.2974\n",
            "Epoch 86/150\n",
            "1/1 [==============================] - 0s 9ms/step - loss: 0.2952\n",
            "Epoch 87/150\n",
            "1/1 [==============================] - 0s 27ms/step - loss: 0.2931\n",
            "Epoch 88/150\n",
            "1/1 [==============================] - 0s 17ms/step - loss: 0.2909\n",
            "Epoch 89/150\n",
            "1/1 [==============================] - 0s 8ms/step - loss: 0.2888\n",
            "Epoch 90/150\n",
            "1/1 [==============================] - 0s 7ms/step - loss: 0.2867\n",
            "Epoch 91/150\n",
            "1/1 [==============================] - 0s 9ms/step - loss: 0.2846\n",
            "Epoch 92/150\n",
            "1/1 [==============================] - 0s 11ms/step - loss: 0.2825\n",
            "Epoch 93/150\n",
            "1/1 [==============================] - 0s 8ms/step - loss: 0.2805\n",
            "Epoch 94/150\n",
            "1/1 [==============================] - 0s 8ms/step - loss: 0.2784\n",
            "Epoch 95/150\n",
            "1/1 [==============================] - 0s 9ms/step - loss: 0.2764\n",
            "Epoch 96/150\n",
            "1/1 [==============================] - 0s 8ms/step - loss: 0.2744\n",
            "Epoch 97/150\n",
            "1/1 [==============================] - 0s 7ms/step - loss: 0.2724\n",
            "Epoch 98/150\n",
            "1/1 [==============================] - 0s 7ms/step - loss: 0.2704\n",
            "Epoch 99/150\n",
            "1/1 [==============================] - 0s 7ms/step - loss: 0.2684\n",
            "Epoch 100/150\n",
            "1/1 [==============================] - 0s 7ms/step - loss: 0.2665\n",
            "Epoch 101/150\n",
            "1/1 [==============================] - 0s 8ms/step - loss: 0.2645\n",
            "Epoch 102/150\n",
            "1/1 [==============================] - 0s 8ms/step - loss: 0.2626\n",
            "Epoch 103/150\n",
            "1/1 [==============================] - 0s 8ms/step - loss: 0.2607\n",
            "Epoch 104/150\n",
            "1/1 [==============================] - 0s 9ms/step - loss: 0.2588\n",
            "Epoch 105/150\n",
            "1/1 [==============================] - 0s 7ms/step - loss: 0.2569\n",
            "Epoch 106/150\n",
            "1/1 [==============================] - 0s 13ms/step - loss: 0.2550\n",
            "Epoch 107/150\n",
            "1/1 [==============================] - 0s 8ms/step - loss: 0.2532\n",
            "Epoch 108/150\n",
            "1/1 [==============================] - 0s 7ms/step - loss: 0.2513\n",
            "Epoch 109/150\n",
            "1/1 [==============================] - 0s 7ms/step - loss: 0.2495\n",
            "Epoch 110/150\n",
            "1/1 [==============================] - 0s 8ms/step - loss: 0.2477\n",
            "Epoch 111/150\n",
            "1/1 [==============================] - 0s 8ms/step - loss: 0.2459\n",
            "Epoch 112/150\n",
            "1/1 [==============================] - 0s 10ms/step - loss: 0.2441\n",
            "Epoch 113/150\n",
            "1/1 [==============================] - 0s 9ms/step - loss: 0.2423\n",
            "Epoch 114/150\n",
            "1/1 [==============================] - 0s 7ms/step - loss: 0.2405\n",
            "Epoch 115/150\n",
            "1/1 [==============================] - 0s 6ms/step - loss: 0.2388\n",
            "Epoch 116/150\n",
            "1/1 [==============================] - 0s 9ms/step - loss: 0.2371\n",
            "Epoch 117/150\n",
            "1/1 [==============================] - 0s 5ms/step - loss: 0.2353\n",
            "Epoch 118/150\n",
            "1/1 [==============================] - 0s 6ms/step - loss: 0.2336\n",
            "Epoch 119/150\n",
            "1/1 [==============================] - 0s 6ms/step - loss: 0.2319\n",
            "Epoch 120/150\n",
            "1/1 [==============================] - 0s 6ms/step - loss: 0.2302\n",
            "Epoch 121/150\n",
            "1/1 [==============================] - 0s 6ms/step - loss: 0.2285\n",
            "Epoch 122/150\n",
            "1/1 [==============================] - 0s 11ms/step - loss: 0.2269\n",
            "Epoch 123/150\n",
            "1/1 [==============================] - 0s 6ms/step - loss: 0.2252\n",
            "Epoch 124/150\n",
            "1/1 [==============================] - 0s 6ms/step - loss: 0.2236\n",
            "Epoch 125/150\n",
            "1/1 [==============================] - 0s 7ms/step - loss: 0.2220\n",
            "Epoch 126/150\n",
            "1/1 [==============================] - 0s 6ms/step - loss: 0.2203\n",
            "Epoch 127/150\n",
            "1/1 [==============================] - 0s 6ms/step - loss: 0.2187\n",
            "Epoch 128/150\n",
            "1/1 [==============================] - 0s 8ms/step - loss: 0.2171\n",
            "Epoch 129/150\n",
            "1/1 [==============================] - 0s 14ms/step - loss: 0.2156\n",
            "Epoch 130/150\n",
            "1/1 [==============================] - 0s 6ms/step - loss: 0.2140\n",
            "Epoch 131/150\n",
            "1/1 [==============================] - 0s 7ms/step - loss: 0.2124\n",
            "Epoch 132/150\n",
            "1/1 [==============================] - 0s 6ms/step - loss: 0.2109\n",
            "Epoch 133/150\n",
            "1/1 [==============================] - 0s 6ms/step - loss: 0.2093\n",
            "Epoch 134/150\n",
            "1/1 [==============================] - 0s 11ms/step - loss: 0.2078\n",
            "Epoch 135/150\n",
            "1/1 [==============================] - 0s 10ms/step - loss: 0.2063\n",
            "Epoch 136/150\n",
            "1/1 [==============================] - 0s 6ms/step - loss: 0.2048\n",
            "Epoch 137/150\n",
            "1/1 [==============================] - 0s 7ms/step - loss: 0.2033\n",
            "Epoch 138/150\n",
            "1/1 [==============================] - 0s 16ms/step - loss: 0.2018\n",
            "Epoch 139/150\n",
            "1/1 [==============================] - 0s 6ms/step - loss: 0.2004\n",
            "Epoch 140/150\n",
            "1/1 [==============================] - 0s 11ms/step - loss: 0.1989\n",
            "Epoch 141/150\n",
            "1/1 [==============================] - 0s 7ms/step - loss: 0.1975\n",
            "Epoch 142/150\n",
            "1/1 [==============================] - 0s 7ms/step - loss: 0.1960\n",
            "Epoch 143/150\n",
            "1/1 [==============================] - 0s 9ms/step - loss: 0.1946\n",
            "Epoch 144/150\n",
            "1/1 [==============================] - 0s 7ms/step - loss: 0.1932\n",
            "Epoch 145/150\n",
            "1/1 [==============================] - 0s 14ms/step - loss: 0.1918\n",
            "Epoch 146/150\n",
            "1/1 [==============================] - 0s 7ms/step - loss: 0.1904\n",
            "Epoch 147/150\n",
            "1/1 [==============================] - 0s 6ms/step - loss: 0.1890\n",
            "Epoch 148/150\n",
            "1/1 [==============================] - 0s 7ms/step - loss: 0.1876\n",
            "Epoch 149/150\n",
            "1/1 [==============================] - 0s 13ms/step - loss: 0.1862\n",
            "Epoch 150/150\n",
            "1/1 [==============================] - 0s 6ms/step - loss: 0.1849\n"
          ]
        },
        {
          "output_type": "execute_result",
          "data": {
            "text/plain": [
              "<keras.src.callbacks.History at 0x7a06002867d0>"
            ]
          },
          "metadata": {},
          "execution_count": 13
        }
      ]
    },
    {
      "cell_type": "code",
      "source": [
        "print(model.predict([10.0]))"
      ],
      "metadata": {
        "colab": {
          "base_uri": "https://localhost:8080/"
        },
        "id": "YOdtT28JzEW8",
        "outputId": "5dd0d4f4-3743-4071-d314-4d2fec4eaa4c"
      },
      "execution_count": 14,
      "outputs": [
        {
          "output_type": "stream",
          "name": "stdout",
          "text": [
            "1/1 [==============================] - 0s 60ms/step\n",
            "[[23.304544]]\n"
          ]
        }
      ]
    },
    {
      "cell_type": "code",
      "source": [
        "model = tf.keras.Sequential([\n",
        "                             keras.layers.Dense(units=1, input_shape=[1]),\n",
        "                             keras.layers.Dense(units=8),\n",
        "                             keras.layers.Dense(units=1)])"
      ],
      "metadata": {
        "id": "HAbxiYVLz27L"
      },
      "execution_count": 15,
      "outputs": []
    },
    {
      "cell_type": "code",
      "source": [
        "from tensorflow.keras.models import Sequential\n",
        "from tensorflow.keras.layers import Dense\n",
        "\n",
        "# Assuming 'input_dim' is the dimension of your input data\n",
        "input_dim = 100  # Replace with the actual dimension of your input data\n",
        "\n",
        "# Define a simple sequential model\n",
        "model_3_layers = Sequential([\n",
        "    Dense(units=64, activation='relu', input_shape=(input_dim,)),\n",
        "    Dense(units=32, activation='relu'),\n",
        "    Dense(units=1, activation='linear')  # Assuming it's a regression task\n",
        "])\n",
        "\n",
        "# Compile the model\n",
        "model_3_layers.compile(optimizer='sgd', loss='mean_squared_error')"
      ],
      "metadata": {
        "id": "1L1uxTaS8_od"
      },
      "execution_count": 18,
      "outputs": []
    },
    {
      "cell_type": "code",
      "source": [
        "# Assuming 'input_dim' is the dimension of your input data\n",
        "input_dim = 100  # Replace with the actual dimension of your input data\n",
        "\n",
        "# Create a sample input with the correct shape\n",
        "sample_input = [[10.0] * input_dim]  # Replace '10.0' with your actual sample data\n",
        "\n",
        "# Predict using the model\n",
        "prediction = model_3_layers.predict(sample_input)\n",
        "\n",
        "# Print the prediction\n",
        "print(prediction)"
      ],
      "metadata": {
        "colab": {
          "base_uri": "https://localhost:8080/"
        },
        "id": "YW255eJx9SXO",
        "outputId": "8217dedc-ca09-42b2-d937-d5acde9470da"
      },
      "execution_count": 20,
      "outputs": [
        {
          "output_type": "stream",
          "name": "stdout",
          "text": [
            "1/1 [==============================] - 0s 164ms/step\n",
            "[[2.2003646]]\n"
          ]
        }
      ]
    }
  ]
}